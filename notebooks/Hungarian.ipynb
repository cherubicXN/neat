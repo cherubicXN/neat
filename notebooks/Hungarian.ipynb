{
 "cells": [
  {
   "cell_type": "code",
   "execution_count": 11,
   "id": "d536c674",
   "metadata": {},
   "outputs": [],
   "source": [
    "import torch\n",
    "import torch.nn.functional as F"
   ]
  },
  {
   "cell_type": "code",
   "execution_count": 2,
   "id": "429ebff4",
   "metadata": {},
   "outputs": [],
   "source": [
    "x = torch.rand((4,3))"
   ]
  },
  {
   "cell_type": "code",
   "execution_count": 9,
   "id": "f8ee2907",
   "metadata": {},
   "outputs": [],
   "source": [
    "y_lb = torch.randint(0,3,size=(4,))"
   ]
  },
  {
   "cell_type": "code",
   "execution_count": 13,
   "id": "c132e2cc",
   "metadata": {},
   "outputs": [],
   "source": [
    "y = F.one_hot(y_lb,num_classes=3)"
   ]
  },
  {
   "cell_type": "code",
   "execution_count": 17,
   "id": "1af46e44",
   "metadata": {},
   "outputs": [
    {
     "data": {
      "text/plain": [
       "tensor([[0.3126, 0.2573, 0.5305],\n",
       "        [0.8206, 0.3208, 0.1430],\n",
       "        [0.5679, 0.0703, 0.3672],\n",
       "        [0.6979, 0.0012, 0.9331]])"
      ]
     },
     "execution_count": 17,
     "metadata": {},
     "output_type": "execute_result"
    }
   ],
   "source": []
  },
  {
   "cell_type": "code",
   "execution_count": 23,
   "id": "dbb8d1ac",
   "metadata": {},
   "outputs": [],
   "source": [
    "pred_ins = x.t()[None]\n",
    "gt_ins = y.t()[:,None]"
   ]
  },
  {
   "cell_type": "code",
   "execution_count": 24,
   "id": "ac329905",
   "metadata": {},
   "outputs": [],
   "source": [
    "cost_ce = -gt_ins*torch.log(pred_ins+1e-8) - (1-gt_ins)*torch.log(1-pred_ins+1e-8)"
   ]
  },
  {
   "cell_type": "code",
   "execution_count": 28,
   "id": "8dfe93f0",
   "metadata": {},
   "outputs": [
    {
     "data": {
      "text/plain": [
       "tensor([[0.3749, 0.2974, 0.7561],\n",
       "        [0.3749, 0.2974, 0.7561],\n",
       "        [1.1628, 1.3576, 0.6339]])"
      ]
     },
     "execution_count": 28,
     "metadata": {},
     "output_type": "execute_result"
    }
   ],
   "source": [
    "cost_ce[...,0]"
   ]
  },
  {
   "cell_type": "code",
   "execution_count": 29,
   "id": "a1f5c3f6",
   "metadata": {},
   "outputs": [
    {
     "data": {
      "text/plain": [
       "tensor([[0.1977, 1.1371, 1.9450],\n",
       "        [1.7184, 0.3868, 0.1543],\n",
       "        [1.7184, 0.3868, 0.1543]])"
      ]
     },
     "execution_count": 29,
     "metadata": {},
     "output_type": "execute_result"
    }
   ],
   "source": [
    "cost_ce[...,1]"
   ]
  },
  {
   "cell_type": "code",
   "execution_count": 30,
   "id": "51b32fa8",
   "metadata": {},
   "outputs": [
    {
     "data": {
      "text/plain": [
       "tensor([[0.8391, 0.0728, 0.4576],\n",
       "        [0.5658, 2.6556, 1.0019],\n",
       "        [0.8391, 0.0728, 0.4576]])"
      ]
     },
     "execution_count": 30,
     "metadata": {},
     "output_type": "execute_result"
    }
   ],
   "source": [
    "cost_ce[...,2]"
   ]
  },
  {
   "cell_type": "code",
   "execution_count": 31,
   "id": "f69d0f9b",
   "metadata": {},
   "outputs": [
    {
     "data": {
      "text/plain": [
       "tensor([[3.5967e-01, 6.7107e+00, 6.9246e-02],\n",
       "        [1.1970e+00, 1.2185e-03, 2.7045e+00],\n",
       "        [1.1970e+00, 1.2185e-03, 2.7045e+00]])"
      ]
     },
     "execution_count": 31,
     "metadata": {},
     "output_type": "execute_result"
    }
   ],
   "source": [
    "cost_ce[...,3]"
   ]
  },
  {
   "cell_type": "code",
   "execution_count": 32,
   "id": "a58a389e",
   "metadata": {},
   "outputs": [],
   "source": [
    "## for every instance i, its transferbility "
   ]
  },
  {
   "cell_type": "code",
   "execution_count": 44,
   "id": "4c6c33c9",
   "metadata": {},
   "outputs": [
    {
     "data": {
      "text/plain": [
       "tensor([1, 2, 0, 2])"
      ]
     },
     "execution_count": 44,
     "metadata": {},
     "output_type": "execute_result"
    }
   ],
   "source": [
    "randperm = torch.randperm(3)\n",
    "randperm[y_lb]"
   ]
  },
  {
   "cell_type": "code",
   "execution_count": 46,
   "id": "6a2c9678",
   "metadata": {},
   "outputs": [],
   "source": [
    "z_lb = randperm[y_lb]"
   ]
  },
  {
   "cell_type": "code",
   "execution_count": 47,
   "id": "b7d81fe8",
   "metadata": {},
   "outputs": [],
   "source": [
    "z = F.one_hot(z_lb,num_classes=3)"
   ]
  },
  {
   "cell_type": "code",
   "execution_count": 48,
   "id": "490cf45c",
   "metadata": {},
   "outputs": [],
   "source": [
    "gt_ins1 = z.t()[:,None]"
   ]
  },
  {
   "cell_type": "code",
   "execution_count": 56,
   "id": "c523a520",
   "metadata": {},
   "outputs": [],
   "source": [
    "pred_ins1 = x[randperm].t()[None]"
   ]
  },
  {
   "cell_type": "code",
   "execution_count": 65,
   "id": "a14ec2a8",
   "metadata": {},
   "outputs": [],
   "source": [
    "cost_de = -gt_ins1*torch.log(pred_ins+1e-8) - (1-gt_ins1)*torch.log(1-pred_ins+1e-8)"
   ]
  },
  {
   "cell_type": "code",
   "execution_count": 66,
   "id": "c0976beb",
   "metadata": {},
   "outputs": [
    {
     "data": {
      "text/plain": [
       "tensor([[0.9640, 0.8353, 1.1542],\n",
       "        [1.2293, 0.4546, 0.9876],\n",
       "        [0.4428, 2.0545, 0.8070]])"
      ]
     },
     "execution_count": 66,
     "metadata": {},
     "output_type": "execute_result"
    }
   ],
   "source": [
    "cost_de.mean(dim=-1)"
   ]
  },
  {
   "cell_type": "code",
   "execution_count": 67,
   "id": "6e7e87fe",
   "metadata": {},
   "outputs": [
    {
     "data": {
      "text/plain": [
       "tensor([[0.4428, 2.0545, 0.8070],\n",
       "        [0.9640, 0.8353, 1.1542],\n",
       "        [1.2293, 0.4546, 0.9876]])"
      ]
     },
     "execution_count": 67,
     "metadata": {},
     "output_type": "execute_result"
    }
   ],
   "source": [
    "cost_ce.mean(dim=-1)"
   ]
  },
  {
   "cell_type": "code",
   "execution_count": 68,
   "id": "75a8ec70",
   "metadata": {},
   "outputs": [],
   "source": [
    "from scipy.optimize import linear_sum_assignment"
   ]
  },
  {
   "cell_type": "code",
   "execution_count": 74,
   "id": "ced53c46",
   "metadata": {},
   "outputs": [],
   "source": [
    "x1, y1 = linear_sum_assignment(cost_ce.mean(dim=-1))"
   ]
  },
  {
   "cell_type": "code",
   "execution_count": 80,
   "id": "b3ba0dfd",
   "metadata": {},
   "outputs": [],
   "source": [
    "x2, y2 = linear_sum_assignment(cost_de.mean(dim=-1))"
   ]
  },
  {
   "cell_type": "code",
   "execution_count": 72,
   "id": "8c942754",
   "metadata": {},
   "outputs": [
    {
     "data": {
      "text/plain": [
       "tensor([2, 0, 1])"
      ]
     },
     "execution_count": 72,
     "metadata": {},
     "output_type": "execute_result"
    }
   ],
   "source": [
    "randperm"
   ]
  },
  {
   "cell_type": "code",
   "execution_count": 79,
   "id": "e009f96f",
   "metadata": {},
   "outputs": [
    {
     "data": {
      "text/plain": [
       "tensor(2.0517)"
      ]
     },
     "execution_count": 79,
     "metadata": {},
     "output_type": "execute_result"
    }
   ],
   "source": [
    "cost_ce.mean(dim=-1)[x1,y1].sum()"
   ]
  },
  {
   "cell_type": "code",
   "execution_count": 81,
   "id": "38632c3a",
   "metadata": {},
   "outputs": [
    {
     "data": {
      "text/plain": [
       "tensor(2.0517)"
      ]
     },
     "execution_count": 81,
     "metadata": {},
     "output_type": "execute_result"
    }
   ],
   "source": [
    "cost_de.mean(dim=-1)[x2,y2].sum()"
   ]
  },
  {
   "cell_type": "code",
   "execution_count": null,
   "id": "e169993c",
   "metadata": {},
   "outputs": [],
   "source": []
  }
 ],
 "metadata": {
  "kernelspec": {
   "display_name": "Python 3 (ipykernel)",
   "language": "python",
   "name": "python3"
  },
  "language_info": {
   "codemirror_mode": {
    "name": "ipython",
    "version": 3
   },
   "file_extension": ".py",
   "mimetype": "text/x-python",
   "name": "python",
   "nbconvert_exporter": "python",
   "pygments_lexer": "ipython3",
   "version": "3.9.0"
  },
  "latex_envs": {
   "LaTeX_envs_menu_present": true,
   "autoclose": false,
   "autocomplete": true,
   "bibliofile": "biblio.bib",
   "cite_by": "apalike",
   "current_citInitial": 1,
   "eqLabelWithNumbers": true,
   "eqNumInitial": 1,
   "hotkeys": {
    "equation": "Ctrl-E",
    "itemize": "Ctrl-I"
   },
   "labels_anchors": false,
   "latex_user_defs": false,
   "report_style_numbering": false,
   "user_envs_cfg": false
  },
  "toc": {
   "base_numbering": 1,
   "nav_menu": {},
   "number_sections": true,
   "sideBar": true,
   "skip_h1_title": false,
   "title_cell": "Table of Contents",
   "title_sidebar": "Contents",
   "toc_cell": false,
   "toc_position": {},
   "toc_section_display": true,
   "toc_window_display": false
  }
 },
 "nbformat": 4,
 "nbformat_minor": 5
}
