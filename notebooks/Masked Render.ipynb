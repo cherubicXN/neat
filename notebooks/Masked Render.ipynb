{
 "cells": [
  {
   "cell_type": "code",
   "execution_count": 2,
   "id": "0c660bc8",
   "metadata": {},
   "outputs": [],
   "source": [
    "import sys\n",
    "sys.path.append('../code')"
   ]
  },
  {
   "cell_type": "code",
   "execution_count": 3,
   "id": "22724a42",
   "metadata": {},
   "outputs": [],
   "source": [
    "import os\n",
    "import glob\n",
    "import utils.general as utils\n",
    "from utils import rend_util\n",
    "import cv2\n",
    "import numpy as np\n",
    "import torch"
   ]
  },
  {
   "cell_type": "code",
   "execution_count": 4,
   "id": "2c3a0fb7",
   "metadata": {},
   "outputs": [],
   "source": [
    "gt_files = sorted(glob.glob('../data/DTU/scan24/image/*.png'))"
   ]
  },
  {
   "cell_type": "code",
   "execution_count": 5,
   "id": "6f0e40ed",
   "metadata": {},
   "outputs": [],
   "source": [
    "# pred_files = sorted(glob.glob('../exps/dtu-rend-d/24/2023_02_23_10_37_49/rend/*.png'))"
   ]
  },
  {
   "cell_type": "code",
   "execution_count": 6,
   "id": "c60061b9",
   "metadata": {},
   "outputs": [],
   "source": [
    "pred_files = sorted(glob.glob('../exps/dtu-rend-d1/24/2023_03_12_11_41_08/rend/*.png'))"
   ]
  },
  {
   "cell_type": "code",
   "execution_count": 72,
   "id": "fc36a9d8",
   "metadata": {},
   "outputs": [],
   "source": [
    "pred_files = sorted(glob.glob('../exps/dtu-rend-d20/24/2023_03_12_11_41_40/rend/*.png'))"
   ]
  },
  {
   "cell_type": "code",
   "execution_count": 73,
   "id": "e98e1588",
   "metadata": {},
   "outputs": [],
   "source": [
    "psnr_list = []\n",
    "for pfile, gfile in zip(pred_files,gt_files):\n",
    "    pred = rend_util.load_rgb(pfile)\n",
    "    gt = rend_util.load_rgb(gfile)\n",
    "    psnr_list.append(\n",
    "        rend_util.get_psnr(torch.tensor(pred),torch.tensor(gt))\n",
    "    )"
   ]
  },
  {
   "cell_type": "code",
   "execution_count": 71,
   "id": "244efb1c",
   "metadata": {},
   "outputs": [
    {
     "data": {
      "text/plain": [
       "tensor([24.6843], device='cuda:0')"
      ]
     },
     "execution_count": 71,
     "metadata": {},
     "output_type": "execute_result"
    }
   ],
   "source": [
    "sum(psnr_list)/len(psnr_list)"
   ]
  },
  {
   "cell_type": "code",
   "execution_count": 13,
   "id": "3b3511a0",
   "metadata": {},
   "outputs": [
    {
     "data": {
      "text/plain": [
       "[tensor([24.6859], device='cuda:0'),\n",
       " tensor([21.6853], device='cuda:0'),\n",
       " tensor([19.9693], device='cuda:0'),\n",
       " tensor([24.0292], device='cuda:0'),\n",
       " tensor([28.4018], device='cuda:0'),\n",
       " tensor([29.1279], device='cuda:0'),\n",
       " tensor([28.3067], device='cuda:0'),\n",
       " tensor([27.3682], device='cuda:0'),\n",
       " tensor([20.9278], device='cuda:0'),\n",
       " tensor([22.0094], device='cuda:0'),\n",
       " tensor([24.8757], device='cuda:0'),\n",
       " tensor([25.8693], device='cuda:0')]"
      ]
     },
     "execution_count": 13,
     "metadata": {},
     "output_type": "execute_result"
    }
   ],
   "source": [
    "psnr_list"
   ]
  },
  {
   "cell_type": "code",
   "execution_count": 30,
   "id": "621e3bc1",
   "metadata": {},
   "outputs": [],
   "source": [
    "inp = \"\"\"0.534\t0.5241\t432\t566\t20.73\t0.7957\t0.6991\t388\t19.65\t0.6215\t0.5602\t821\t20.13\t0.4705\t0.4388\t3996\t9.25\n",
    "0.6262\t0.5556\t452\t661\t21.94\t0.8816\t0.7778\t395\t21.99\t0.6967\t0.6254\t838\t23.37\t0.4731\t0.4457\t4485\t10.16\n",
    "0.4695\t0.4555\t403\t544\t22.9\t0.7894\t0.7531\t305\t21.63\t0.6232\t0.5714\t843\t24.78\t0.5061\t0.4841\t4329\t10.1\n",
    "0.3758\t0.4439\t367\t493\t25.32\t0.6815\t0.6702\t301\t24.64\t0.554\t0.5272\t782\t21.7\t0.3828\t0.3786\t3940\t8.93\n",
    "0.5659\t0.4873\t437\t587\t26.39\t0.9064\t0.7954\t330\t23.03\t0.6615\t0.6064\t883\t25.38\t0.4992\t0.4635\t4536\t11.26\n",
    "0.4269\t0.4645\t413\t533\t19.83\t0.7494\t0.7078\t328\t19.56\t0.6401\t0.5867\t750\t22.14\t0.4446\t0.4059\t4151\t9.57\n",
    "0.4864\t0.5415\t493\t656\t24.11\t0.8005\t0.7357\t320\t24.28\t0.7443\t0.6877\t885\t26.32\t0.493\t0.4502\t4959\t10.38\n",
    "0.4558\t0.4196\t528\t578\t23.12\t0.794\t0.6807\t366\t22.84\t0.6724\t0.6002\t696\t21.41\t0.4737\t0.4445\t4573\t8.39\n",
    "0.6613\t0.7512\t168\t185\t28.48\t1.1796\t1.0285\t60\t30.16\t1.0026\t0.9727\t189\t21.12\t0.7652\t0.6917\t872\t8.89\n",
    "0.3931\t0.428\t267\t587\t44.48\t0.8486\t0.6876\t83\t37.69\t0.5325\t0.4886\t184\t14.28\t0.2944\t0.2896\t932\t4.84\n",
    "0.3606\t0.6367\t73\t67\t24.02\t1.1008\t1.0695\t23\t20.86\t0.6428\t0.5495\t260\t11.58\t0.4112\t0.4112\t973\t5.73\n",
    "0.4545\t0.7333\t204\t265\t23.71\t1.2957\t1.0286\t61\t26.16\t0.7222\t0.6033\t225\t13.31\t0.4392\t0.4059\t824\t6.06\"\"\""
   ]
  },
  {
   "cell_type": "code",
   "execution_count": 33,
   "id": "65bd4765",
   "metadata": {},
   "outputs": [],
   "source": [
    "table = inp.split('\\n')"
   ]
  },
  {
   "cell_type": "code",
   "execution_count": 34,
   "id": "11d6157a",
   "metadata": {},
   "outputs": [],
   "source": [
    "table = [l.split('\\t') for l in table]"
   ]
  },
  {
   "cell_type": "code",
   "execution_count": 39,
   "id": "3429a964",
   "metadata": {},
   "outputs": [],
   "source": [
    "data = []\n",
    "for l in table:\n",
    "    x_flt = [float(x) for x in l]\n",
    "    data.append(x_flt)"
   ]
  },
  {
   "cell_type": "code",
   "execution_count": 41,
   "id": "77018d7a",
   "metadata": {},
   "outputs": [],
   "source": [
    "data = np.array(data)"
   ]
  },
  {
   "cell_type": "code",
   "execution_count": 67,
   "id": "50fb9466",
   "metadata": {},
   "outputs": [
    {
     "name": "stdout",
     "output_type": "stream",
     "text": [
      "16\t&\t\\underline{0.5340}\t&\t\\underline{0.5241}\t&\t432\t&\t566\t&\t20.73\t&\t0.7957\t&\t0.6991\t&\t388\t&\t19.65\t&\t0.6215\t&\t0.5602\t&\t821\t&\t20.13\t&\t\\textbf{0.4705}\t&\t\\textbf{0.4388}\t&\t3996\t&\t9.25  \\\\\n",
      "17\t&\t\\underline{0.6262}\t&\t\\underline{0.5556}\t&\t452\t&\t661\t&\t21.94\t&\t0.8816\t&\t0.7778\t&\t395\t&\t21.99\t&\t0.6967\t&\t0.6254\t&\t838\t&\t23.37\t&\t\\textbf{0.4731}\t&\t\\textbf{0.4457}\t&\t4485\t&\t10.16  \\\\\n",
      "18\t&\t\\textbf{0.4695}\t&\t\\textbf{0.4555}\t&\t403\t&\t544\t&\t22.90\t&\t0.7894\t&\t0.7531\t&\t305\t&\t21.63\t&\t0.6232\t&\t0.5714\t&\t843\t&\t24.78\t&\t\\underline{0.5061}\t&\t\\underline{0.4841}\t&\t4329\t&\t10.10  \\\\\n",
      "19\t&\t\\textbf{0.3758}\t&\t\\underline{0.4439}\t&\t367\t&\t493\t&\t25.32\t&\t0.6815\t&\t0.6702\t&\t301\t&\t24.64\t&\t0.5540\t&\t0.5272\t&\t782\t&\t21.70\t&\t\\underline{0.3828}\t&\t\\textbf{0.3786}\t&\t3940\t&\t8.93  \\\\\n",
      "21\t&\t\\underline{0.5659}\t&\t\\underline{0.4873}\t&\t437\t&\t587\t&\t26.39\t&\t0.9064\t&\t0.7954\t&\t330\t&\t23.03\t&\t0.6615\t&\t0.6064\t&\t883\t&\t25.38\t&\t\\textbf{0.4992}\t&\t\\textbf{0.4635}\t&\t4536\t&\t11.26  \\\\\n",
      "22\t&\t\\textbf{0.4269}\t&\t\\underline{0.4645}\t&\t413\t&\t533\t&\t19.83\t&\t0.7494\t&\t0.7078\t&\t328\t&\t19.56\t&\t0.6401\t&\t0.5867\t&\t750\t&\t22.14\t&\t\\underline{0.4446}\t&\t\\textbf{0.4059}\t&\t4151\t&\t9.57  \\\\\n",
      "23\t&\t\\textbf{0.4864}\t&\t\\underline{0.5415}\t&\t493\t&\t656\t&\t24.11\t&\t0.8005\t&\t0.7357\t&\t320\t&\t24.28\t&\t0.7443\t&\t0.6877\t&\t885\t&\t26.32\t&\t\\underline{0.4930}\t&\t\\textbf{0.4502}\t&\t4959\t&\t10.38  \\\\\n",
      "24\t&\t\\textbf{0.4558}\t&\t\\textbf{0.4196}\t&\t528\t&\t578\t&\t23.12\t&\t0.7940\t&\t0.6807\t&\t366\t&\t22.84\t&\t0.6724\t&\t0.6002\t&\t696\t&\t21.41\t&\t\\underline{0.4737}\t&\t\\underline{0.4445}\t&\t4573\t&\t8.39  \\\\\n",
      "37\t&\t\\textbf{0.6613}\t&\t\\underline{0.7512}\t&\t168\t&\t185\t&\t28.48\t&\t1.1796\t&\t1.0285\t&\t60\t&\t30.16\t&\t1.0026\t&\t0.9727\t&\t189\t&\t21.12\t&\t\\underline{0.7652}\t&\t\\textbf{0.6917}\t&\t872\t&\t8.89  \\\\\n",
      "40\t&\t\\underline{0.3931}\t&\t\\underline{0.4280}\t&\t267\t&\t587\t&\t44.48\t&\t0.8486\t&\t0.6876\t&\t83\t&\t37.69\t&\t0.5325\t&\t0.4886\t&\t184\t&\t14.28\t&\t\\textbf{0.2944}\t&\t\\textbf{0.2896}\t&\t932\t&\t4.84  \\\\\n",
      "65\t&\t\\textbf{0.3606}\t&\t0.6367\t&\t73\t&\t67\t&\t24.02\t&\t1.1008\t&\t1.0695\t&\t23\t&\t20.86\t&\t0.6428\t&\t\\underline{0.5495}\t&\t260\t&\t11.58\t&\t\\underline{0.4112}\t&\t\\textbf{0.4112}\t&\t973\t&\t5.73  \\\\\n",
      "105\t&\t\\underline{0.4545}\t&\t0.7333\t&\t204\t&\t265\t&\t23.71\t&\t1.2957\t&\t1.0286\t&\t61\t&\t26.16\t&\t0.7222\t&\t\\underline{0.6033}\t&\t225\t&\t13.31\t&\t\\textbf{0.4392}\t&\t\\textbf{0.4059}\t&\t824\t&\t6.06  \\\\\n"
     ]
    }
   ],
   "source": [
    "latex_out = []\n",
    "scans = [16,17,18,19,21,22,23,24,37,40,65,105]\n",
    "for id, x in zip(scans,data):\n",
    "    \n",
    "    accj_sub = sorted(x[[0,5,9,13]])\n",
    "    accl_sub = sorted(x[[1,6,10,14]])\n",
    "    \n",
    "    msg = []\n",
    "    for i in range(len(x)):\n",
    "        if i in [0,5,9,13]:\n",
    "            if x[i] == accj_sub[0]:\n",
    "                temp = '{:.4f}'.format(x[i])\n",
    "                msg.append('\\\\textbf{'+temp+'}')\n",
    "            elif x[i] == accj_sub[1]:\n",
    "                temp = '{:.4f}'.format(x[i])\n",
    "                msg.append('\\\\underline{'+temp+'}')\n",
    "            else:\n",
    "                msg.append('{:.4f}'.format(x[i]))                \n",
    "        elif i in [1,6,10,14]:\n",
    "            if x[i] == accl_sub[0]:\n",
    "                temp = '{:.4f}'.format(x[i])\n",
    "                msg.append('\\\\textbf{'+temp+'}')\n",
    "            elif x[i] == accl_sub[1]:\n",
    "                temp = '{:.4f}'.format(x[i])\n",
    "                msg.append('\\\\underline{'+temp+'}')\n",
    "            else:\n",
    "                msg.append('{:.4f}'.format(x[i]))                \n",
    "        elif i in [2,3,7,11,15]:\n",
    "            msg.append('{:d}'.format(int(x[i])))\n",
    "        else:\n",
    "            msg.append('{:.2f}'.format(x[i]))\n",
    "    latex_out.append(msg)\n",
    "    msg = ['{:d}'.format(id)] + msg\n",
    "    print('\\t&\\t'.join(msg) + '  \\\\\\\\')"
   ]
  },
  {
   "cell_type": "code",
   "execution_count": 68,
   "id": "c5aab0b0",
   "metadata": {},
   "outputs": [
    {
     "data": {
      "text/plain": [
       "array([[5.3400e-01, 5.2410e-01, 4.3200e+02, 5.6600e+02, 2.0730e+01,\n",
       "        7.9570e-01, 6.9910e-01, 3.8800e+02, 1.9650e+01, 6.2150e-01,\n",
       "        5.6020e-01, 8.2100e+02, 2.0130e+01, 4.7050e-01, 4.3880e-01,\n",
       "        3.9960e+03, 9.2500e+00],\n",
       "       [6.2620e-01, 5.5560e-01, 4.5200e+02, 6.6100e+02, 2.1940e+01,\n",
       "        8.8160e-01, 7.7780e-01, 3.9500e+02, 2.1990e+01, 6.9670e-01,\n",
       "        6.2540e-01, 8.3800e+02, 2.3370e+01, 4.7310e-01, 4.4570e-01,\n",
       "        4.4850e+03, 1.0160e+01],\n",
       "       [4.6950e-01, 4.5550e-01, 4.0300e+02, 5.4400e+02, 2.2900e+01,\n",
       "        7.8940e-01, 7.5310e-01, 3.0500e+02, 2.1630e+01, 6.2320e-01,\n",
       "        5.7140e-01, 8.4300e+02, 2.4780e+01, 5.0610e-01, 4.8410e-01,\n",
       "        4.3290e+03, 1.0100e+01],\n",
       "       [3.7580e-01, 4.4390e-01, 3.6700e+02, 4.9300e+02, 2.5320e+01,\n",
       "        6.8150e-01, 6.7020e-01, 3.0100e+02, 2.4640e+01, 5.5400e-01,\n",
       "        5.2720e-01, 7.8200e+02, 2.1700e+01, 3.8280e-01, 3.7860e-01,\n",
       "        3.9400e+03, 8.9300e+00],\n",
       "       [5.6590e-01, 4.8730e-01, 4.3700e+02, 5.8700e+02, 2.6390e+01,\n",
       "        9.0640e-01, 7.9540e-01, 3.3000e+02, 2.3030e+01, 6.6150e-01,\n",
       "        6.0640e-01, 8.8300e+02, 2.5380e+01, 4.9920e-01, 4.6350e-01,\n",
       "        4.5360e+03, 1.1260e+01],\n",
       "       [4.2690e-01, 4.6450e-01, 4.1300e+02, 5.3300e+02, 1.9830e+01,\n",
       "        7.4940e-01, 7.0780e-01, 3.2800e+02, 1.9560e+01, 6.4010e-01,\n",
       "        5.8670e-01, 7.5000e+02, 2.2140e+01, 4.4460e-01, 4.0590e-01,\n",
       "        4.1510e+03, 9.5700e+00],\n",
       "       [4.8640e-01, 5.4150e-01, 4.9300e+02, 6.5600e+02, 2.4110e+01,\n",
       "        8.0050e-01, 7.3570e-01, 3.2000e+02, 2.4280e+01, 7.4430e-01,\n",
       "        6.8770e-01, 8.8500e+02, 2.6320e+01, 4.9300e-01, 4.5020e-01,\n",
       "        4.9590e+03, 1.0380e+01],\n",
       "       [4.5580e-01, 4.1960e-01, 5.2800e+02, 5.7800e+02, 2.3120e+01,\n",
       "        7.9400e-01, 6.8070e-01, 3.6600e+02, 2.2840e+01, 6.7240e-01,\n",
       "        6.0020e-01, 6.9600e+02, 2.1410e+01, 4.7370e-01, 4.4450e-01,\n",
       "        4.5730e+03, 8.3900e+00],\n",
       "       [6.6130e-01, 7.5120e-01, 1.6800e+02, 1.8500e+02, 2.8480e+01,\n",
       "        1.1796e+00, 1.0285e+00, 6.0000e+01, 3.0160e+01, 1.0026e+00,\n",
       "        9.7270e-01, 1.8900e+02, 2.1120e+01, 7.6520e-01, 6.9170e-01,\n",
       "        8.7200e+02, 8.8900e+00],\n",
       "       [3.9310e-01, 4.2800e-01, 2.6700e+02, 5.8700e+02, 4.4480e+01,\n",
       "        8.4860e-01, 6.8760e-01, 8.3000e+01, 3.7690e+01, 5.3250e-01,\n",
       "        4.8860e-01, 1.8400e+02, 1.4280e+01, 2.9440e-01, 2.8960e-01,\n",
       "        9.3200e+02, 4.8400e+00],\n",
       "       [3.6060e-01, 6.3670e-01, 7.3000e+01, 6.7000e+01, 2.4020e+01,\n",
       "        1.1008e+00, 1.0695e+00, 2.3000e+01, 2.0860e+01, 6.4280e-01,\n",
       "        5.4950e-01, 2.6000e+02, 1.1580e+01, 4.1120e-01, 4.1120e-01,\n",
       "        9.7300e+02, 5.7300e+00],\n",
       "       [4.5450e-01, 7.3330e-01, 2.0400e+02, 2.6500e+02, 2.3710e+01,\n",
       "        1.2957e+00, 1.0286e+00, 6.1000e+01, 2.6160e+01, 7.2220e-01,\n",
       "        6.0330e-01, 2.2500e+02, 1.3310e+01, 4.3920e-01, 4.0590e-01,\n",
       "        8.2400e+02, 6.0600e+00]])"
      ]
     },
     "execution_count": 68,
     "metadata": {},
     "output_type": "execute_result"
    }
   ],
   "source": [
    "data"
   ]
  },
  {
   "cell_type": "code",
   "execution_count": null,
   "id": "f2990713",
   "metadata": {},
   "outputs": [],
   "source": []
  }
 ],
 "metadata": {
  "kernelspec": {
   "display_name": "Python 3 (ipykernel)",
   "language": "python",
   "name": "python3"
  },
  "language_info": {
   "codemirror_mode": {
    "name": "ipython",
    "version": 3
   },
   "file_extension": ".py",
   "mimetype": "text/x-python",
   "name": "python",
   "nbconvert_exporter": "python",
   "pygments_lexer": "ipython3",
   "version": "3.9.0"
  },
  "latex_envs": {
   "LaTeX_envs_menu_present": true,
   "autoclose": false,
   "autocomplete": true,
   "bibliofile": "biblio.bib",
   "cite_by": "apalike",
   "current_citInitial": 1,
   "eqLabelWithNumbers": true,
   "eqNumInitial": 1,
   "hotkeys": {
    "equation": "Ctrl-E",
    "itemize": "Ctrl-I"
   },
   "labels_anchors": false,
   "latex_user_defs": false,
   "report_style_numbering": false,
   "user_envs_cfg": false
  },
  "toc": {
   "base_numbering": 1,
   "nav_menu": {},
   "number_sections": true,
   "sideBar": true,
   "skip_h1_title": false,
   "title_cell": "Table of Contents",
   "title_sidebar": "Contents",
   "toc_cell": false,
   "toc_position": {},
   "toc_section_display": true,
   "toc_window_display": false
  }
 },
 "nbformat": 4,
 "nbformat_minor": 5
}
